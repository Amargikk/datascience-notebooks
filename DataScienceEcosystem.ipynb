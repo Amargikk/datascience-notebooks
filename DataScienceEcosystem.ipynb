{
 "cells": [
  {
   "metadata": {
    "ExecuteTime": {
     "end_time": "2025-06-27T00:33:35.563050Z",
     "start_time": "2025-06-27T00:33:35.560710Z"
    }
   },
   "cell_type": "code",
   "source": "",
   "id": "903b8c218d59ab01",
   "outputs": [],
   "execution_count": null
  },
  {
   "metadata": {},
   "cell_type": "markdown",
   "source": "Data Science Tools and Ecosystem",
   "id": "a7dffe918c54d9ac"
  },
  {
   "metadata": {
    "ExecuteTime": {
     "end_time": "2025-06-27T00:33:35.589211Z",
     "start_time": "2025-06-27T00:33:35.585956Z"
    }
   },
   "cell_type": "code",
   "source": "",
   "id": "6e6b03658f228e04",
   "outputs": [],
   "execution_count": null
  },
  {
   "metadata": {},
   "cell_type": "markdown",
   "source": "In this notebook, Data Science Tools and Ecosystem are summarized.",
   "id": "7e1c147e0dcecc0a"
  },
  {
   "metadata": {},
   "cell_type": "markdown",
   "source": [
    "Some of the popular languages that Data Scientists use are:\n",
    "1. python\n",
    "2. R\n",
    "3. SQL\n",
    "4. Scala\n",
    "5. Java\n",
    "6. c++\n",
    "7. Julia\n",
    "8. Javascript\n",
    "9. php\n",
    "10. go\n",
    "11. ruby\n",
    "12. visual Basic"
   ],
   "id": "6f8af340e46c0265"
  },
  {
   "metadata": {},
   "cell_type": "markdown",
   "source": [
    "Some of the commonly used libraries used by Data Scientists include:\n",
    "Pandas\n",
    "\n",
    "1. Numpy\n",
    "\n",
    "2. Matplotlib\n",
    "\n",
    "3. Seaborn\n",
    "\n",
    "4. Scikit-learn\n",
    "\n",
    "5. Keras\n",
    "\n",
    "6. TensorFlow\n",
    "\n",
    "7. PyTorch\n",
    "\n",
    "8. Apache Spark\n",
    "\n",
    "9. Vegas\n",
    "\n",
    "10. Big DL\n",
    "\n",
    "11. Ggplot2"
   ],
   "id": "2e7c1156b86e8e2d"
  },
  {
   "metadata": {},
   "cell_type": "markdown",
   "source": [
    "| Data Science Tools |\n",
    "|--------------------|\n",
    "| Jupyter Notebook   |\n",
    "| RStudio            |\n",
    "| VS Code            |"
   ],
   "id": "897a1466e77b7ffd"
  },
  {
   "metadata": {},
   "cell_type": "markdown",
   "source": "### Below are a few examples of evaluating arithmetic expressions in Python.",
   "id": "7eead66924f2ffe0"
  },
  {
   "metadata": {
    "ExecuteTime": {
     "end_time": "2025-06-27T00:33:35.611662Z",
     "start_time": "2025-06-27T00:33:35.604976Z"
    }
   },
   "cell_type": "code",
   "source": [
    "# This a simple arithmetic expression to mutiply then add integers.\n",
    "(3 * 4) + 5"
   ],
   "id": "2fbf9644c1d40093",
   "outputs": [
    {
     "data": {
      "text/plain": [
       "17"
      ]
     },
     "execution_count": 17,
     "metadata": {},
     "output_type": "execute_result"
    }
   ],
   "execution_count": 17
  },
  {
   "metadata": {
    "ExecuteTime": {
     "end_time": "2025-06-27T00:33:35.627789Z",
     "start_time": "2025-06-27T00:33:35.623931Z"
    }
   },
   "cell_type": "code",
   "source": [
    "# This will convert 200 minutes to hours by diving by 60.\n",
    "200 / 60"
   ],
   "id": "64bebda249b8f780",
   "outputs": [
    {
     "data": {
      "text/plain": [
       "3.3333333333333335"
      ]
     },
     "execution_count": 18,
     "metadata": {},
     "output_type": "execute_result"
    }
   ],
   "execution_count": 18
  },
  {
   "metadata": {},
   "cell_type": "markdown",
   "source": [
    "**Objectives:**\n",
    "* List popular languages for Data Science.\n",
    "* Identify commonly used libraries in Data Science.\n",
    "* Create tables in markdown.\n",
    "* Evaluate arithmetic expressions in Python.\n",
    "* Share Jupyter Notebooks on GitHub."
   ],
   "id": "1b5771daca175feb"
  },
  {
   "metadata": {},
   "cell_type": "markdown",
   "source": [
    "## Author\n",
    "[Amar Yasir Mohammed]"
   ],
   "id": "264d56d5696b628"
  },
  {
   "metadata": {
    "ExecuteTime": {
     "end_time": "2025-06-27T00:33:35.648840Z",
     "start_time": "2025-06-27T00:33:35.646845Z"
    }
   },
   "cell_type": "code",
   "source": "",
   "id": "cda1c1848154c1a5",
   "outputs": [],
   "execution_count": null
  }
 ],
 "metadata": {
  "kernelspec": {
   "display_name": "Python 3",
   "language": "python",
   "name": "python3"
  },
  "language_info": {
   "codemirror_mode": {
    "name": "ipython",
    "version": 2
   },
   "file_extension": ".py",
   "mimetype": "text/x-python",
   "name": "python",
   "nbconvert_exporter": "python",
   "pygments_lexer": "ipython2",
   "version": "2.7.6"
  }
 },
 "nbformat": 4,
 "nbformat_minor": 5
}
